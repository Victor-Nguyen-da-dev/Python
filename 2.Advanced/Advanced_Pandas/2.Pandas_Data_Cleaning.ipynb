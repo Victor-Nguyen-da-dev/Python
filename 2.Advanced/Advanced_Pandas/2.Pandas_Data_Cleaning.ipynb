{
 "cells": [
  {
   "cell_type": "code",
   "execution_count": 1,
   "metadata": {},
   "outputs": [],
   "source": [
    "import pandas as pd\n",
    "import matplotlib.pyplot as plt\n",
    "from datasets import load_dataset\n",
    "\n",
    "dataset = load_dataset('lukebarousse/data_jobs')\n",
    "df = dataset['train'].to_pandas()\n",
    "\n",
    "df['job_posted_date'] = pd.to_datetime(df['job_posted_date'])"
   ]
  },
  {
   "cell_type": "code",
   "execution_count": 12,
   "metadata": {},
   "outputs": [
    {
     "data": {
      "text/plain": [
       "(785741, 22003)"
      ]
     },
     "execution_count": 12,
     "metadata": {},
     "output_type": "execute_result"
    }
   ],
   "source": [
    "rows_before = len(df)\n",
    "drop_na = df.dropna(subset=['salary_year_avg'])\n",
    "rows_after = len(drop_na)\n",
    "rows_before, rows_after"
   ]
  },
  {
   "cell_type": "code",
   "execution_count": 11,
   "metadata": {},
   "outputs": [
    {
     "data": {
      "text/plain": [
       "(785741, 17218)"
      ]
     },
     "execution_count": 11,
     "metadata": {},
     "output_type": "execute_result"
    }
   ],
   "source": [
    "rows_before_duplicates = df.shape[0]\n",
    "drop_duplicates = df.drop_duplicates(subset=['job_location'])\n",
    "rows_after_duplicates = drop_duplicates.shape[0]\n",
    "rows_before_duplicates, rows_after_duplicates"
   ]
  },
  {
   "cell_type": "code",
   "execution_count": 16,
   "metadata": {},
   "outputs": [
    {
     "data": {
      "text/plain": [
       "(0    None\n",
       " 1    None\n",
       " 2    None\n",
       " 3    None\n",
       " 4    None\n",
       " 5    None\n",
       " 6    None\n",
       " 7    None\n",
       " 8    None\n",
       " 9    None\n",
       " Name: salary_rate, dtype: object,\n",
       " 0    Unknown\n",
       " 1    Unknown\n",
       " 2    Unknown\n",
       " 3    Unknown\n",
       " 4    Unknown\n",
       " 5    Unknown\n",
       " 6    Unknown\n",
       " 7    Unknown\n",
       " 8    Unknown\n",
       " 9    Unknown\n",
       " Name: salary_rate, dtype: object)"
      ]
     },
     "execution_count": 16,
     "metadata": {},
     "output_type": "execute_result"
    }
   ],
   "source": [
    "filled_na = df.fillna(value='Unknown')\n",
    "df['salary_rate'].head(10), filled_na['salary_rate'].head(10)"
   ]
  }
 ],
 "metadata": {
  "kernelspec": {
   "display_name": "python_course",
   "language": "python",
   "name": "python3"
  },
  "language_info": {
   "codemirror_mode": {
    "name": "ipython",
    "version": 3
   },
   "file_extension": ".py",
   "mimetype": "text/x-python",
   "name": "python",
   "nbconvert_exporter": "python",
   "pygments_lexer": "ipython3",
   "version": "3.11.10"
  }
 },
 "nbformat": 4,
 "nbformat_minor": 2
}
